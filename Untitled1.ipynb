{
  "nbformat": 4,
  "nbformat_minor": 0,
  "metadata": {
    "colab": {
      "provenance": [],
      "toc_visible": true
    },
    "kernelspec": {
      "name": "python3",
      "display_name": "Python 3"
    },
    "language_info": {
      "name": "python"
    }
  },
  "cells": [
    {
      "cell_type": "code",
      "source": [
        "cust_data = {}      \n",
        "new_user_attributes = ['name', 'address', 'phone num', 'govt id', 'amount']"
      ],
      "metadata": {
        "id": "JPeSQCLuhJKC"
      },
      "execution_count": 1,
      "outputs": []
    },
    {
      "cell_type": "code",
      "source": [
        "# Create the 'new_user()' function to add a new user to the 'cust_data' dictionary. \n",
        "import random \n",
        "def new_user():\n",
        "  acc_num = random.randint(10000,99999)\n",
        "  \n",
        "  while acc_num in cust_data.keys():\n",
        "    acc_num = random.randint(10000,99999)\n",
        "  new_user_input = []\n",
        "\n",
        "  for i in new_user_attributes:\n",
        "    user_input = input(\"Enter\"+i+\":\") \n",
        "\n",
        "    if i == 'amount':\n",
        "      new_user_input.append(int(user_input))\n",
        "    new_user_input.append(user_input) \n",
        "  cust_data[acc_num] = dict(zip(new_user_attributes,new_user_input))\n",
        "  print(\"Your details are added successfully.\\n Your account number is\" , acc_num ,\"\\nPlease don't lose it.\")"
      ],
      "metadata": {
        "id": "LeKOWka1hMvi"
      },
      "execution_count": 2,
      "outputs": []
    },
    {
      "cell_type": "code",
      "source": [
        "# Create the 'existing_user()' function to get the account details of an existing user from the 'cust_data' dictionary.\n",
        "def existing_user():\n",
        "  acc_num = int(input(\"Please enter your correct account number:\"))\n",
        "  while acc_num not in cust_data:\n",
        "    print(\"Not found. Please enter your correct account number: \")\n",
        "    acc_num = int(input(\"Please enter your correct account number:\"))\n",
        "  print('Welcome!' , cust_data[acc_num]['name'], \"Enter 1 to check your balance.\\nEnter 2 to withdraw an amount.\\nEnter 3 to deposit an amount.\") \n",
        "  enter_0 = input('Enter 1 to check your balance. Enter 2 to withdraw an amount. Enter 3 to deposit an amount.')\n",
        "  while enter_0 not in ['1','2','3']:\n",
        "    print('Invalid input! Enter 1 to check your balance.Enter 2 to withdraw an amount.Enter 3 to deposit an amount.')\n",
        "    enter_0 = input('Enter 1 to check your balance. Enter 2 to withdraw an amount. Enter 3 to deposit an amount.')\n",
        "  if enter_0 == \"1\":\n",
        "    print(\"Available balance:\",cust_data[acc_num]['amount'])\n",
        "  elif enter_0 == '2':\n",
        "    sum_10 = int(input('Enter the amount to be withdrawn:')) \n",
        "    if sum_10 > cust_data[acc_num]['amount']:\n",
        "      print(\"Insufficeint Balance/nAvaliable Balance: \" , cust_data[acc_num][\"amount\"])\n",
        "    else:\n",
        "      new_amount = int(cust_data[acc_num]['amount']) - sum_10\n",
        "      cust_data[acc_num]['amount'] = new_amount\n",
        "      print(\"Withdrwal Successful/nAvaliable Balance: \" , cust_data[acc_num][\"amount\"])\n",
        "  elif enter_0 == '3':\n",
        "    amt = int(input(\"Amount To be deposited\"))\n",
        "    total = int(cust_data[acc_num]['amount']) + amt\n",
        "    cust_data[acc_num]['amount'] = total\n",
        "    print(\"Deposit Successful/nAvaliable Balance: \" , cust_data[acc_num][\"amount\"])\n",
        "    "
      ],
      "metadata": {
        "id": "3UAhHUcphPpz"
      },
      "execution_count": 3,
      "outputs": []
    },
    {
      "cell_type": "code",
      "source": [
        "# Create an infinite while loop to run the application.\n",
        "while True:\n",
        "  valid_inputs = ['1','2','3']\n",
        "  print(\"Welcome to the Horizon Bank!\\n\\nEnter 1 if you are a new customer.\\nEnter 2 if you are an existing customer.\\nEnter 3 to terminate the application.\")\n",
        "  enter = input()\n",
        "  while enter not in valid_inputs:\n",
        "    print(\"Invalid input!\\nEnter 1 if you are a new customer.\\nEnter 2 if you are an existing customer.\\n Enter 3 to terminate the application.\")\n",
        "    enter = input()\n",
        "  if enter == '1':\n",
        "    new_user()  \n",
        "    print(\"Thank you, for banking with us!\")\n",
        "    break\n",
        "  elif enter == '2':\n",
        "    existing_user() \n",
        "    print(\"Thank you, for banking with us!\")\n",
        "    break\n",
        "  elif enter == '3':\n",
        "    print(\"Thank you, for banking with us!\")  \n",
        "    break"
      ],
      "metadata": {
        "colab": {
          "base_uri": "https://localhost:8080/"
        },
        "id": "vQyzAbcyhS-o",
        "outputId": "74818c8e-d118-4298-e3d6-6e897b01bc57"
      },
      "execution_count": 5,
      "outputs": [
        {
          "output_type": "stream",
          "name": "stdout",
          "text": [
            "Welcome to the Horizon Bank!\n",
            "\n",
            "Enter 1 if you are a new customer.\n",
            "Enter 2 if you are an existing customer.\n",
            "Enter 3 to terminate the application.\n",
            "2\n",
            "Please enter your correct account number:67692 \n",
            "Welcome! gurnoor Enter 1 to check your balance.\n",
            "Enter 2 to withdraw an amount.\n",
            "Enter 3 to deposit an amount.\n",
            "Enter 1 to check your balance. Enter 2 to withdraw an amount. Enter 3 to deposit an amount.1\n",
            "Available balance: 123456\n",
            "Thank you, for banking with us!\n"
          ]
        }
      ]
    }
  ]
}